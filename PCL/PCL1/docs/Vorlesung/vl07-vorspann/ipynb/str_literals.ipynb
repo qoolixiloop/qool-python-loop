{
 "cells": [
  {
   "cell_type": "markdown",
   "metadata": {
    "slideshow": {
     "slide_type": "slide"
    }
   },
   "source": [
    "# Literale des Datentyps `str`"
   ]
  },
  {
   "cell_type": "markdown",
   "metadata": {
    "slideshow": {
     "slide_type": "slide"
    }
   },
   "source": [
    "Einzeilige (!) Zeichenkette mit Escape-Sequenzen"
   ]
  },
  {
   "cell_type": "code",
   "execution_count": 1,
   "metadata": {
    "collapsed": false
   },
   "outputs": [
    {
     "name": "stdout",
     "output_type": "stream",
     "text": [
      "Canonical s1: 'a\\na'\n",
      "Printed   s1: a\n",
      "a\n"
     ]
    }
   ],
   "source": [
    "s1 = \"a\\n\\x61\"\n",
    "\n",
    "print \"Canonical s1:\", repr(s1)\n",
    "print \"Printed   s1:\", s1"
   ]
  },
  {
   "cell_type": "markdown",
   "metadata": {
    "slideshow": {
     "slide_type": "slide"
    }
   },
   "source": [
    "## Rohe Zeichenketten (_raw strings_)\n",
    "Escape-Sequenzen `\\xNN` werden **nicht** aufgelöst!"
   ]
  },
  {
   "cell_type": "code",
   "execution_count": 2,
   "metadata": {
    "collapsed": false,
    "scrolled": false
   },
   "outputs": [
    {
     "name": "stdout",
     "output_type": "stream",
     "text": [
      "Canonical s2: 'a\\\\n\\\\x61'\n",
      "Printed   s2: a\\n\\x61\n"
     ]
    }
   ],
   "source": [
    "s2 = r\"a\\n\\x61\"\n",
    "\n",
    "print \"Canonical s2:\", repr(s2)\n",
    "print \"Printed   s2:\", s2"
   ]
  },
  {
   "cell_type": "markdown",
   "metadata": {
    "collapsed": false,
    "slideshow": {
     "slide_type": "slide"
    }
   },
   "source": [
    "## Mehrzeilige Zeichenketten (_long strings_)"
   ]
  },
  {
   "cell_type": "code",
   "execution_count": 3,
   "metadata": {
    "collapsed": false
   },
   "outputs": [
    {
     "name": "stdout",
     "output_type": "stream",
     "text": [
      "Canonical s3: 'a\\na'\n",
      "Printed   s3: a\n",
      "a\n"
     ]
    }
   ],
   "source": [
    "s3 = \"\"\"a\n",
    "a\"\"\"\n",
    "\n",
    "print \"Canonical s3:\", repr(s3)\n",
    "print \"Printed   s3:\", s3"
   ]
  },
  {
   "cell_type": "markdown",
   "metadata": {
    "slideshow": {
     "slide_type": "slide"
    }
   },
   "source": [
    "## Mehrzeilige rohe Zeichenketten"
   ]
  },
  {
   "cell_type": "code",
   "execution_count": 4,
   "metadata": {
    "collapsed": false,
    "slideshow": {
     "slide_type": "-"
    }
   },
   "outputs": [
    {
     "name": "stdout",
     "output_type": "stream",
     "text": [
      "Canonical s4: 'a\\na'\n",
      "Printed   s4: a\n",
      "a\n"
     ]
    }
   ],
   "source": [
    "# Rohe Longstring\n",
    "s4 = r\"\"\"a\n",
    "a\"\"\"\n",
    "\n",
    "print \"Canonical s4:\", repr(s4)\n",
    "print \"Printed   s4:\", s4"
   ]
  }
 ],
 "metadata": {
  "celltoolbar": "Slideshow",
  "kernelspec": {
   "display_name": "Python 2",
   "language": "python",
   "name": "python2"
  },
  "language_info": {
   "codemirror_mode": {
    "name": "ipython",
    "version": 2
   },
   "file_extension": ".py",
   "mimetype": "text/x-python",
   "name": "python",
   "nbconvert_exporter": "python",
   "pygments_lexer": "ipython2",
   "version": "2.7.10"
  },
  "livereveal": {
   "center": false,
   "embedded": true,
   "start_slideshow_at": "selected",
   "theme": "simple",
   "transition": "fade"
  }
 },
 "nbformat": 4,
 "nbformat_minor": 0
}
