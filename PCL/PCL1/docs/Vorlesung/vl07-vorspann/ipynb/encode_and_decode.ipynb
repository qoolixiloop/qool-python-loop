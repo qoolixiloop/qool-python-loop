{
 "cells": [
  {
   "cell_type": "markdown",
   "metadata": {
    "slideshow": {
     "slide_type": "slide"
    }
   },
   "source": [
    "# Verwandeln von Unicode-Zeichenketten in UTF-8-Bytefolgen  und umgekehrt"
   ]
  },
  {
   "cell_type": "code",
   "execution_count": 3,
   "metadata": {
    "collapsed": false,
    "slideshow": {
     "slide_type": "slide"
    }
   },
   "outputs": [
    {
     "name": "stdout",
     "output_type": "stream",
     "text": [
      "'B\\xc3\\xa4r'\n",
      "Bär\n"
     ]
    }
   ],
   "source": [
    "byte_text = 'B\\xc3\\xa4r' # UTF-8-Repräsentation von Bär\n",
    "print repr(byte_text)\n",
    "print byte_text"
   ]
  },
  {
   "cell_type": "markdown",
   "metadata": {
    "slideshow": {
     "slide_type": "fragment"
    }
   },
   "source": [
    "Explizites Dekodieren von UTF-8-Bytefolgen"
   ]
  },
  {
   "cell_type": "code",
   "execution_count": 4,
   "metadata": {
    "collapsed": false,
    "slideshow": {
     "slide_type": "fragment"
    }
   },
   "outputs": [
    {
     "name": "stdout",
     "output_type": "stream",
     "text": [
      "u'B\\xe4r'\n",
      "Bär\n"
     ]
    }
   ],
   "source": [
    "print repr(byte_text.decode('utf-8'))\n",
    "print byte_text.decode('utf-8')"
   ]
  },
  {
   "cell_type": "code",
   "execution_count": 1,
   "metadata": {
    "collapsed": false,
    "slideshow": {
     "slide_type": "slide"
    }
   },
   "outputs": [
    {
     "name": "stdout",
     "output_type": "stream",
     "text": [
      "Bär\n",
      "u'B\\xe4r'\n"
     ]
    }
   ],
   "source": [
    "unicode_text = u'Bär'\n",
    "print unicode_text\n",
    "print repr(unicode_text)"
   ]
  },
  {
   "cell_type": "markdown",
   "metadata": {
    "slideshow": {
     "slide_type": "fragment"
    }
   },
   "source": [
    "Explizites Enkodieren von Unicode-Zeichen als UTF-8-Bytefolge"
   ]
  },
  {
   "cell_type": "code",
   "execution_count": 2,
   "metadata": {
    "collapsed": false,
    "slideshow": {
     "slide_type": "-"
    }
   },
   "outputs": [
    {
     "name": "stdout",
     "output_type": "stream",
     "text": [
      "Bär\n",
      "'B\\xc3\\xa4r'\n"
     ]
    }
   ],
   "source": [
    "print unicode_text.encode('utf-8')\n",
    "print repr(unicode_text.encode('utf-8'))"
   ]
  },
  {
   "cell_type": "markdown",
   "metadata": {
    "slideshow": {
     "slide_type": "fragment"
    }
   },
   "source": [
    "☂ Im Terminal können unterschiedliche Werte _gleich_ aussehen..."
   ]
  }
 ],
 "metadata": {
  "kernelspec": {
   "display_name": "Python 2",
   "language": "python",
   "name": "python2"
  },
  "language_info": {
   "codemirror_mode": {
    "name": "ipython",
    "version": 2
   },
   "file_extension": ".py",
   "mimetype": "text/x-python",
   "name": "python",
   "nbconvert_exporter": "python",
   "pygments_lexer": "ipython2",
   "version": "2.7.10"
  },
  "livereveal": {
   "center": false,
   "embedded": true,
   "start_slideshow_at": "selected",
   "theme": "simple",
   "transition": "fade"
  }
 },
 "nbformat": 4,
 "nbformat_minor": 0
}
