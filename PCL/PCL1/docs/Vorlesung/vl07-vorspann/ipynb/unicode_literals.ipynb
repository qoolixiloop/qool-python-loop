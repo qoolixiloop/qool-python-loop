{
 "cells": [
  {
   "cell_type": "markdown",
   "metadata": {
    "slideshow": {
     "slide_type": "slide"
    }
   },
   "source": [
    "# Literale des Datentyps `unicode`\n",
    "\n"
   ]
  },
  {
   "cell_type": "markdown",
   "metadata": {
    "slideshow": {
     "slide_type": "slide"
    }
   },
   "source": [
    "Einzeilige (!) Zeichenkette mit Escape-Sequenzen"
   ]
  },
  {
   "cell_type": "code",
   "execution_count": 5,
   "metadata": {
    "collapsed": false
   },
   "outputs": [
    {
     "name": "stdout",
     "output_type": "stream",
     "text": [
      "Canonical s1: u'\\u20aca\\n\\xe4'\n",
      "Printed   s1: €a\n",
      "ä\n"
     ]
    }
   ],
   "source": [
    "s1 = u\"\\u20aca\\n\\xe4\"\n",
    "print \"Canonical s1:\", repr(s1)\n",
    "print \"Printed   s1:\", s1"
   ]
  },
  {
   "cell_type": "markdown",
   "metadata": {
    "slideshow": {
     "slide_type": "slide"
    }
   },
   "source": [
    "## Rohe Unicode-Zeichenketten (_raw strings_)\n",
    "Unicode-Escape-Sequenzen `\\uNNNN` werden aufgelöst!"
   ]
  },
  {
   "cell_type": "code",
   "execution_count": 16,
   "metadata": {
    "collapsed": false,
    "scrolled": false
   },
   "outputs": [
    {
     "name": "stdout",
     "output_type": "stream",
     "text": [
      "Canonical s2:  u'20 \\u20ac\\\\n\\\\xe4'\n",
      "Printed   s2:  20 €\\n\\xe4\n"
     ]
    }
   ],
   "source": [
    "s2 = ur'20 \\u20ac\\n\\xe4'\n",
    "\n",
    "print \"Canonical s2: \",repr(s2)\n",
    "print \"Printed   s2: \",s2"
   ]
  },
  {
   "cell_type": "markdown",
   "metadata": {
    "collapsed": false,
    "slideshow": {
     "slide_type": "slide"
    }
   },
   "source": [
    "## Mehrzeilige Unicode-Ketten (_long strings_)"
   ]
  },
  {
   "cell_type": "code",
   "execution_count": 18,
   "metadata": {
    "collapsed": false
   },
   "outputs": [
    {
     "name": "stdout",
     "output_type": "stream",
     "text": [
      "Canonical s3: u'20 \\u20ac\\n\\t\\xe4'\n",
      "Printed   s3: 20 €\n",
      "\tä\n"
     ]
    }
   ],
   "source": [
    "s3 = u\"\"\"20 \\u20AC\n",
    "\\tä\"\"\"\n",
    "\n",
    "print \"Canonical s3:\", repr(s3)\n",
    "print \"Printed   s3:\", s3"
   ]
  },
  {
   "cell_type": "markdown",
   "metadata": {
    "slideshow": {
     "slide_type": "slide"
    }
   },
   "source": [
    "## Mehrzeilige rohe Zeichenketten"
   ]
  },
  {
   "cell_type": "code",
   "execution_count": 20,
   "metadata": {
    "collapsed": false,
    "slideshow": {
     "slide_type": "-"
    }
   },
   "outputs": [
    {
     "name": "stdout",
     "output_type": "stream",
     "text": [
      "Canonical s4:  u'20 \\u20aca\\n\\\\t\\xe4'\n",
      "Printed   s4:  20 €a\n",
      "\\tä\n"
     ]
    }
   ],
   "source": [
    "s4 = ur\"\"\"20 €a\n",
    "\\t\\u00e4\"\"\"\n",
    "\n",
    "print \"Canonical s4: \", repr(s4)\n",
    "print \"Printed   s4: \", s4"
   ]
  }
 ],
 "metadata": {
  "kernelspec": {
   "display_name": "Python 2",
   "language": "python",
   "name": "python2"
  },
  "language_info": {
   "codemirror_mode": {
    "name": "ipython",
    "version": 2
   },
   "file_extension": ".py",
   "mimetype": "text/x-python",
   "name": "python",
   "nbconvert_exporter": "python",
   "pygments_lexer": "ipython2",
   "version": "2.7.10"
  },
  "livereveal": {
   "center": false,
   "embedded": true,
   "start_slideshow_at": "selected",
   "theme": "simple",
   "transition": "fade"
  }
 },
 "nbformat": 4,
 "nbformat_minor": 0
}
