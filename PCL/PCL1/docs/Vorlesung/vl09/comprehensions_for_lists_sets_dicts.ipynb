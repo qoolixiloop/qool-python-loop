{
 "cells": [
  {
   "cell_type": "markdown",
   "metadata": {},
   "source": [
    "# Komprehensionsausdrücke für Listen, Mengen und Dictionaries"
   ]
  },
  {
   "cell_type": "markdown",
   "metadata": {},
   "source": [
    "## Listenkomprehension"
   ]
  },
  {
   "cell_type": "markdown",
   "metadata": {},
   "source": [
    "Der iterative Weg über Statements"
   ]
  },
  {
   "cell_type": "code",
   "execution_count": 44,
   "metadata": {},
   "outputs": [
    {
     "data": {
      "text/plain": [
       "['s', 't', 'm', 'o', 'r', 'i', 't', 'z', 's', 't', 'r', '2', '3']"
      ]
     },
     "execution_count": 44,
     "output_type": "execute_result",
     "metadata": {}
    }
   ],
   "source": [
    "sl = []\n",
    "for c in \"St. Moritz-Str. 23\":\n",
    "    if c.isalnum():\n",
    "        sl.append(c.lower())\n",
    "sl"
   ]
  },
  {
   "cell_type": "markdown",
   "metadata": {},
   "source": [
    "Der kompakte Weg über Komprehensionsausdrücke"
   ]
  },
  {
   "cell_type": "code",
   "execution_count": 45,
   "metadata": {},
   "outputs": [
    {
     "data": {
      "text/plain": [
       "['s', 't', 'm', 'o', 'r', 'i', 't', 'z', 's', 't', 'r', '2', '3']"
      ]
     },
     "execution_count": 45,
     "output_type": "execute_result",
     "metadata": {}
    }
   ],
   "source": [
    "el = [c.lower() for c in \"St. Moritz-Str. 23\" if c.isalnum()]\n",
    "el"
   ]
  },
  {
   "cell_type": "markdown",
   "metadata": {},
   "source": [
    "Führen beide Wege zum gleichen Ziel?"
   ]
  },
  {
   "cell_type": "code",
   "execution_count": 46,
   "metadata": {},
   "outputs": [
    {
     "data": {
      "text/plain": [
       "True"
      ]
     },
     "execution_count": 46,
     "output_type": "execute_result",
     "metadata": {}
    }
   ],
   "source": [
    "sl == el"
   ]
  },
  {
   "cell_type": "markdown",
   "metadata": {},
   "source": [
    "## If-Then-Else-Anweisungen beim Listenbau"
   ]
  },
  {
   "cell_type": "markdown",
   "metadata": {},
   "source": [
    "Der iterative Weg über die If-Then-Else-Anweisung"
   ]
  },
  {
   "cell_type": "code",
   "execution_count": 47,
   "metadata": {},
   "outputs": [
    {
     "name": "stdout",
     "output_type": "stream",
     "text": [
      "['S', 't', ' ', ' ', 'M', 'o', 'r', 'i', 't', 'z', ' ', 'S', 't', 'r', ' ', ' ', '2', '3']\n"
     ]
    }
   ],
   "source": [
    "sl = []\n",
    "for c in \"St. Moritz-Str. 23\":\n",
    "    if c.isalnum():\n",
    "        sl.append(c)\n",
    "    else:\n",
    "        sl.append(' ')\n",
    "print sl"
   ]
  },
  {
   "cell_type": "markdown",
   "metadata": {},
   "source": [
    "If-Then-Else als Ausdruck (bzw. korrekter Then-If-Else)"
   ]
  },
  {
   "cell_type": "code",
   "execution_count": 48,
   "metadata": {},
   "outputs": [
    {
     "name": "stdout",
     "output_type": "stream",
     "text": [
      "['S', 't', ' ', ' ', 'M', 'o', 'r', 'i', 't', 'z', ' ', 'S', 't', 'r', ' ', ' ', '2', '3']\n"
     ]
    }
   ],
   "source": [
    "el = [ c if c.isalnum() else ' ' for c in \"St. Moritz-Str. 23\" ]\n",
    "print el"
   ]
  },
  {
   "cell_type": "code",
   "execution_count": 49,
   "metadata": {},
   "outputs": [
    {
     "data": {
      "text/plain": [
       "True"
      ]
     },
     "execution_count": 49,
     "output_type": "execute_result",
     "metadata": {}
    }
   ],
   "source": [
    "sl == el"
   ]
  },
  {
   "cell_type": "markdown",
   "metadata": {},
   "source": [
    "<h2>Mengenkomprehension</h2>"
   ]
  },
  {
   "cell_type": "markdown",
   "metadata": {},
   "source": [
    "Der iterative Weg"
   ]
  },
  {
   "cell_type": "code",
   "execution_count": 50,
   "metadata": {},
   "outputs": [
    {
     "data": {
      "text/plain": [
       "{'2', '3', 'i', 'm', 'o', 'r', 's', 't', 'z'}"
      ]
     },
     "execution_count": 50,
     "output_type": "execute_result",
     "metadata": {}
    }
   ],
   "source": [
    "ms = set()\n",
    "for x in \"St. Moritz-Str. 23\":\n",
    "    if x.isalnum():\n",
    "        ms.add(x.lower())\n",
    "ms"
   ]
  },
  {
   "cell_type": "markdown",
   "metadata": {},
   "source": [
    "Der Weg der Mengenkomprehension"
   ]
  },
  {
   "cell_type": "code",
   "execution_count": 51,
   "metadata": {},
   "outputs": [
    {
     "data": {
      "text/plain": [
       "{'2', '3', 'i', 'm', 'o', 'r', 's', 't', 'z'}"
      ]
     },
     "execution_count": 51,
     "output_type": "execute_result",
     "metadata": {}
    }
   ],
   "source": [
    "mc = {x.lower() for x in \"St. Moritz-Str. 23\" if x.isalnum()}\n",
    "mc"
   ]
  },
  {
   "cell_type": "markdown",
   "metadata": {},
   "source": [
    "Entsteht dasselbe?"
   ]
  },
  {
   "cell_type": "code",
   "execution_count": 52,
   "metadata": {},
   "outputs": [
    {
     "data": {
      "text/plain": [
       "True"
      ]
     },
     "execution_count": 52,
     "output_type": "execute_result",
     "metadata": {}
    }
   ],
   "source": [
    "ms == mc"
   ]
  },
  {
   "cell_type": "markdown",
   "metadata": {},
   "source": [
    "<h2>Dictionary-Komprehension</h2>"
   ]
  },
  {
   "cell_type": "markdown",
   "metadata": {},
   "source": [
    "Ähnlich wie die Mengenkomprehension: `{key:value for ...}`"
   ]
  },
  {
   "cell_type": "code",
   "execution_count": 54,
   "metadata": {},
   "outputs": [
    {
     "data": {
      "text/plain": [
       "{' ': 2,\n",
       " '-': 1,\n",
       " '.': 2,\n",
       " '2': 1,\n",
       " '3': 1,\n",
       " 'M': 1,\n",
       " 'S': 2,\n",
       " 'i': 1,\n",
       " 'o': 1,\n",
       " 'r': 2,\n",
       " 't': 3,\n",
       " 'z': 1}"
      ]
     },
     "execution_count": 54,
     "output_type": "execute_result",
     "metadata": {}
    }
   ],
   "source": [
    "text = \"St. Moritz-Str. 23\"\n",
    "dc = {c:text.count(c) for c in set(text)}\n",
    "dc"
   ]
  },
  {
   "cell_type": "markdown",
   "metadata": {},
   "source": [
    "Wie lautet die iterative Lösung?"
   ]
  }
 ],
 "metadata": {
  "kernelspec": {
   "display_name": "Python 2",
   "language": "python",
   "name": "python2"
  },
  "language_info": {
   "codemirror_mode": {
    "name": "ipython",
    "version": 2.0
   },
   "file_extension": ".py",
   "mimetype": "text/x-python",
   "name": "python",
   "nbconvert_exporter": "python",
   "pygments_lexer": "ipython2",
   "version": "2.7.10"
  },
  "livereveal": {
   "center": false,
   "embedded": true,
   "start_slideshow_at": "selected",
   "theme": "simple",
   "transition": "fade"
  }
 },
 "nbformat": 4,
 "nbformat_minor": 0
}