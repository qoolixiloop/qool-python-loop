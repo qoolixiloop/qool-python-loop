{
 "cells": [
  {
   "cell_type": "markdown",
   "metadata": {},
   "source": [
    "# Brown-Korpus\n",
    "Elektronisches Pioneerkorpus aus 1961 siehe http://en.wikipedia.org/wiki/Brown_Corpus"
   ]
  },
  {
   "cell_type": "markdown",
   "metadata": {},
   "source": [
    "Wie sieht die textuelle Repräsentation aus?"
   ]
  },
  {
   "cell_type": "code",
   "execution_count": 34,
   "metadata": {},
   "outputs": [],
   "source": [
    "! edit /Users/siclemat/nltk_data/corpora/brown/ca22"
   ]
  },
  {
   "cell_type": "code",
   "execution_count": 29,
   "metadata": {},
   "outputs": [
    {
     "data": {
      "text/plain": [
       "nltk.corpus.reader.util.ConcatenatedCorpusView"
      ]
     },
     "execution_count": 29,
     "output_type": "execute_result",
     "metadata": {}
    }
   ],
   "source": [
    "from nltk.corpus import brown\n",
    "brown_tagged_words = brown.tagged_words(categories='hobbies')\n",
    "type(brown_tagged_words)"
   ]
  },
  {
   "cell_type": "markdown",
   "metadata": {},
   "source": [
    "## Korpus als Sequenz von 2-Tupeln (Wort, POS-Tag)\n",
    "Zugriff auf POS-Tag des 1. Worts im Korpus"
   ]
  },
  {
   "cell_type": "code",
   "execution_count": 30,
   "metadata": {},
   "outputs": [
    {
     "data": {
      "text/plain": [
       "u'QL'"
      ]
     },
     "execution_count": 30,
     "output_type": "execute_result",
     "metadata": {}
    }
   ],
   "source": [
    "brown_tagged_words[0][1]"
   ]
  },
  {
   "cell_type": "markdown",
   "metadata": {},
   "source": [
    "Was berechnet folgender Ausdruck?"
   ]
  },
  {
   "cell_type": "code",
   "execution_count": 31,
   "metadata": {},
   "outputs": [
    {
     "data": {
      "text/plain": [
       "u'Q'"
      ]
     },
     "execution_count": 31,
     "output_type": "execute_result",
     "metadata": {}
    }
   ],
   "source": [
    "brown_tagged_words[0][1][0]"
   ]
  },
  {
   "cell_type": "markdown",
   "metadata": {},
   "source": [
    "## Das balancierte Korpus umfasst Texte aus 15 Kategorien."
   ]
  },
  {
   "cell_type": "code",
   "execution_count": 32,
   "metadata": {},
   "outputs": [
    {
     "data": {
      "text/plain": [
       "[u'adventure',\n",
       " u'belles_lettres',\n",
       " u'editorial',\n",
       " u'fiction',\n",
       " u'government',\n",
       " u'hobbies',\n",
       " u'humor',\n",
       " u'learned',\n",
       " u'lore',\n",
       " u'mystery',\n",
       " u'news',\n",
       " u'religion',\n",
       " u'reviews',\n",
       " u'romance',\n",
       " u'science_fiction']"
      ]
     },
     "execution_count": 32,
     "output_type": "execute_result",
     "metadata": {}
    }
   ],
   "source": [
    "brown.categories()"
   ]
  },
  {
   "cell_type": "code",
   "execution_count": 33,
   "metadata": {},
   "outputs": [
    {
     "name": "stdout",
     "output_type": "stream",
     "text": [
      "/Users/siclemat/nltk_data/corpora/brown/ca02\n",
      "/Users/siclemat/nltk_data/corpora/brown/ca22\n",
      "/Users/siclemat/nltk_data/corpora/brown/ca42\n",
      "/Users/siclemat/nltk_data/corpora/brown/cb18\n",
      "/Users/siclemat/nltk_data/corpora/brown/cc11\n",
      "/Users/siclemat/nltk_data/corpora/brown/cd14\n",
      "/Users/siclemat/nltk_data/corpora/brown/ce17\n",
      "/Users/siclemat/nltk_data/corpora/brown/cf01\n",
      "/Users/siclemat/nltk_data/corpora/brown/cf21\n",
      "/Users/siclemat/nltk_data/corpora/brown/cf41\n",
      "/Users/siclemat/nltk_data/corpora/brown/cg13\n",
      "/Users/siclemat/nltk_data/corpora/brown/cg33\n",
      "/Users/siclemat/nltk_data/corpora/brown/cg53\n",
      "/Users/siclemat/nltk_data/corpora/brown/cg73\n",
      "/Users/siclemat/nltk_data/corpora/brown/ch18\n",
      "/Users/siclemat/nltk_data/corpora/brown/cj08\n",
      "/Users/siclemat/nltk_data/corpora/brown/cj28\n",
      "/Users/siclemat/nltk_data/corpora/brown/cj48\n",
      "/Users/siclemat/nltk_data/corpora/brown/cj68\n",
      "/Users/siclemat/nltk_data/corpora/brown/ck08\n",
      "/Users/siclemat/nltk_data/corpora/brown/ck28\n",
      "/Users/siclemat/nltk_data/corpora/brown/cl19\n",
      "/Users/siclemat/nltk_data/corpora/brown/cn09\n",
      "/Users/siclemat/nltk_data/corpora/brown/cn29\n",
      "/Users/siclemat/nltk_data/corpora/brown/cp20\n"
     ]
    }
   ],
   "source": [
    "# Zeige den Pfad von jeder 20. Datei von den 500 Dateien im Korpus.\n",
    "# Im Editor eine öffnen!\n",
    "for f in brown.fileids()[1:500:20]:\n",
    "    print brown.abspath(f)\n",
    "\n",
    "# Wo liegen die Dateien dieses Korpus?\n",
    "# brown.root"
   ]
  },
  {
   "cell_type": "code",
   "execution_count": null,
   "metadata": {},
   "outputs": [],
   "source": [
    ""
   ]
  }
 ],
 "metadata": {
  "kernelspec": {
   "display_name": "Python 2",
   "language": "python",
   "name": "python2"
  },
  "language_info": {
   "codemirror_mode": {
    "name": "ipython",
    "version": 2.0
   },
   "file_extension": ".py",
   "mimetype": "text/x-python",
   "name": "python",
   "nbconvert_exporter": "python",
   "pygments_lexer": "ipython2",
   "version": "2.7.10"
  },
  "livereveal": {
   "center": false,
   "embedded": true,
   "start_slideshow_at": "selected",
   "theme": "simple",
   "transition": "fade"
  }
 },
 "nbformat": 4,
 "nbformat_minor": 0
}