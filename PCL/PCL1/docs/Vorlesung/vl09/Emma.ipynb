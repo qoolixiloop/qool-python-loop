{
 "cells": [
  {
   "cell_type": "markdown",
   "metadata": {},
   "source": [
    "# Repräsentation von reinen Text-Korpora (à la `gutenberg.org`)"
   ]
  },
  {
   "cell_type": "markdown",
   "metadata": {},
   "source": [
    "Das Objekt `gutenberg` kann Text-Korpora einlesen mit verschiedenen Methoden."
   ]
  },
  {
   "cell_type": "code",
   "execution_count": 1,
   "metadata": {},
   "outputs": [],
   "source": [
    "from nltk.corpus import gutenberg\n",
    "\n",
    "filename = 'austen-emma.txt' # oder absoluter Pfad einer Textdatei"
   ]
  },
  {
   "cell_type": "markdown",
   "metadata": {},
   "source": [
    "### Dokument als eine lange Zeichenkette: Methode `raw()`"
   ]
  },
  {
   "cell_type": "code",
   "execution_count": 2,
   "metadata": {},
   "outputs": [
    {
     "data": {
      "text/plain": [
       "u'[Emma by Jane Austen 1816]\\n\\nVOLUME I\\n\\nCHAPTER I\\n\\n\\nEmma Woodhouse, handsome, clever, and rich, with a'"
      ]
     },
     "execution_count": 2,
     "output_type": "execute_result",
     "metadata": {}
    }
   ],
   "source": [
    "emma_chars = gutenberg.raw(filename)\n",
    "emma_chars[:100]"
   ]
  },
  {
   "cell_type": "markdown",
   "metadata": {},
   "source": [
    "### Dokument als Liste von Wörtern: Methode `words()`\n",
    "Wort = Zeichenkette"
   ]
  },
  {
   "cell_type": "code",
   "execution_count": 3,
   "metadata": {},
   "outputs": [
    {
     "name": "stdout",
     "output_type": "stream",
     "text": [
      "[u'Emma', u'Woodhouse', u',', u'handsome', u',', u'clever', u',', u'and', u'rich', u',', u'with', u'a', u'comfortable', u'home', u'and', u'happy', u'disposition', u',', u'seemed', u'to', u'unite', u'some', u'of', u'the', u'best', u'blessings', u'of', u'existence', u';']\n"
     ]
    }
   ],
   "source": [
    "emma_words = gutenberg.words(filename)\n",
    "print emma_words[11:40]"
   ]
  },
  {
   "cell_type": "markdown",
   "metadata": {},
   "source": [
    "### Dokument als Liste von Sätzen: Methode `sents()`\n",
    "Satz = Liste von Wörten"
   ]
  },
  {
   "cell_type": "code",
   "execution_count": 4,
   "metadata": {},
   "outputs": [
    {
     "data": {
      "text/plain": [
       "[[u'[', u'Emma', u'by', u'Jane', u'Austen', u'1816', u']'],\n",
       " [u'VOLUME', u'I'],\n",
       " [u'CHAPTER', u'I'],\n",
       " [u'Emma',\n",
       "  u'Woodhouse',\n",
       "  u',',\n",
       "  u'handsome',\n",
       "  u',',\n",
       "  u'clever',\n",
       "  u',',\n",
       "  u'and',\n",
       "  u'rich',\n",
       "  u',',\n",
       "  u'with',\n",
       "  u'a',\n",
       "  u'comfortable',\n",
       "  u'home',\n",
       "  u'and',\n",
       "  u'happy',\n",
       "  u'disposition',\n",
       "  u',',\n",
       "  u'seemed',\n",
       "  u'to',\n",
       "  u'unite',\n",
       "  u'some',\n",
       "  u'of',\n",
       "  u'the',\n",
       "  u'best',\n",
       "  u'blessings',\n",
       "  u'of',\n",
       "  u'existence',\n",
       "  u';',\n",
       "  u'and',\n",
       "  u'had',\n",
       "  u'lived',\n",
       "  u'nearly',\n",
       "  u'twenty',\n",
       "  u'-',\n",
       "  u'one',\n",
       "  u'years',\n",
       "  u'in',\n",
       "  u'the',\n",
       "  u'world',\n",
       "  u'with',\n",
       "  u'very',\n",
       "  u'little',\n",
       "  u'to',\n",
       "  u'distress',\n",
       "  u'or',\n",
       "  u'vex',\n",
       "  u'her',\n",
       "  u'.'],\n",
       " [u'She',\n",
       "  u'was',\n",
       "  u'the',\n",
       "  u'youngest',\n",
       "  u'of',\n",
       "  u'the',\n",
       "  u'two',\n",
       "  u'daughters',\n",
       "  u'of',\n",
       "  u'a',\n",
       "  u'most',\n",
       "  u'affectionate',\n",
       "  u',',\n",
       "  u'indulgent',\n",
       "  u'father',\n",
       "  u';',\n",
       "  u'and',\n",
       "  u'had',\n",
       "  u',',\n",
       "  u'in',\n",
       "  u'consequence',\n",
       "  u'of',\n",
       "  u'her',\n",
       "  u'sister',\n",
       "  u\"'\",\n",
       "  u's',\n",
       "  u'marriage',\n",
       "  u',',\n",
       "  u'been',\n",
       "  u'mistress',\n",
       "  u'of',\n",
       "  u'his',\n",
       "  u'house',\n",
       "  u'from',\n",
       "  u'a',\n",
       "  u'very',\n",
       "  u'early',\n",
       "  u'period',\n",
       "  u'.'],\n",
       " [u'Her',\n",
       "  u'mother',\n",
       "  u'had',\n",
       "  u'died',\n",
       "  u'too',\n",
       "  u'long',\n",
       "  u'ago',\n",
       "  u'for',\n",
       "  u'her',\n",
       "  u'to',\n",
       "  u'have',\n",
       "  u'more',\n",
       "  u'than',\n",
       "  u'an',\n",
       "  u'indistinct',\n",
       "  u'remembrance',\n",
       "  u'of',\n",
       "  u'her',\n",
       "  u'caresses',\n",
       "  u';',\n",
       "  u'and',\n",
       "  u'her',\n",
       "  u'place',\n",
       "  u'had',\n",
       "  u'been',\n",
       "  u'supplied',\n",
       "  u'by',\n",
       "  u'an',\n",
       "  u'excellent',\n",
       "  u'woman',\n",
       "  u'as',\n",
       "  u'governess',\n",
       "  u',',\n",
       "  u'who',\n",
       "  u'had',\n",
       "  u'fallen',\n",
       "  u'little',\n",
       "  u'short',\n",
       "  u'of',\n",
       "  u'a',\n",
       "  u'mother',\n",
       "  u'in',\n",
       "  u'affection',\n",
       "  u'.']]"
      ]
     },
     "execution_count": 4,
     "output_type": "execute_result",
     "metadata": {}
    }
   ],
   "source": [
    "emma_sents = gutenberg.sents(filename)\n",
    "emma_sents[:6]"
   ]
  },
  {
   "cell_type": "markdown",
   "metadata": {},
   "source": [
    "### Dokument als Liste von Paragraphen: Methode `paras()`\n",
    "Paragraph = Liste von Sätzen"
   ]
  },
  {
   "cell_type": "code",
   "execution_count": 5,
   "metadata": {},
   "outputs": [
    {
     "data": {
      "text/plain": [
       "[[[u'[', u'Emma', u'by', u'Jane', u'Austen', u'1816', u']']], [[u'VOLUME', u'I']], ...]"
      ]
     },
     "execution_count": 5,
     "output_type": "execute_result",
     "metadata": {}
    }
   ],
   "source": [
    "emma_paras = gutenberg.paras(filename)\n",
    "#for s in emma_paras[20]:\n",
    "#    print s\n",
    "emma_paras"
   ]
  },
  {
   "cell_type": "markdown",
   "metadata": {},
   "source": [
    "## Typische Berechnungen\n",
    "- Wie viele Paragraphen?\n",
    "- Wie viele Sätze pro Paragraph im Schnitt?\n",
    "- Wie viele Wörter pro Satz im Schnitt?\n",
    "- ...\n"
   ]
  },
  {
   "cell_type": "code",
   "execution_count": 6,
   "metadata": {},
   "outputs": [
    {
     "data": {
      "text/plain": [
       "3.2695065373260226"
      ]
     },
     "execution_count": 6,
     "output_type": "execute_result",
     "metadata": {}
    }
   ],
   "source": [
    "from __future__ import division\n",
    "# Anzahl Paragraphen\n",
    "# Durchschnittliche Anzahl Sätze pro Paragraph?\n",
    "len(emma_paras)\n",
    "len(emma_sents)/len(emma_paras)"
   ]
  },
  {
   "cell_type": "markdown",
   "metadata": {},
   "source": [
    "## Was für ein Objekt ist `emma_paras`?\n",
    "Eine Liste von Listen von Zeichenketten?"
   ]
  },
  {
   "cell_type": "code",
   "execution_count": 7,
   "metadata": {},
   "outputs": [
    {
     "data": {
      "text/plain": [
       "nltk.corpus.reader.util.StreamBackedCorpusView"
      ]
     },
     "execution_count": 7,
     "output_type": "execute_result",
     "metadata": {}
    }
   ],
   "source": [
    "type(emma_paras)"
   ]
  },
  {
   "cell_type": "markdown",
   "metadata": {},
   "source": [
    "Nein, scheinbar was ganz Anderes"
   ]
  },
  {
   "cell_type": "markdown",
   "metadata": {},
   "source": [
    "Frage: Weshalb funktioniert dann die __Indexnotation__ `[n]` oder __Slicing__ `[n:m]`?"
   ]
  },
  {
   "cell_type": "markdown",
   "metadata": {},
   "source": [
    "Antwort: Diese Notationen sind allgemein für Sequenzen benützbar."
   ]
  },
  {
   "cell_type": "markdown",
   "metadata": {},
   "source": [
    "<hr/></hr><h2>Häufigkeitsverteilungen</h2>"
   ]
  },
  {
   "cell_type": "code",
   "execution_count": 8,
   "metadata": {},
   "outputs": [],
   "source": [
    "import nltk\n",
    "emma_fd = nltk.FreqDist(emma_words)"
   ]
  },
  {
   "cell_type": "code",
   "execution_count": 9,
   "metadata": {},
   "outputs": [
    {
     "data": {
      "text/plain": [
       "[u'accomplished',\n",
       " u'acknowledge',\n",
       " u'acknowledged',\n",
       " u'acquaintance',\n",
       " u'affectionate',\n",
       " u'approbation',\n",
       " u'arrangement',\n",
       " u'circumstance',\n",
       " u'circumstances',\n",
       " u'comfortable',\n",
       " u'comfortably',\n",
       " u'communicated',\n",
       " u'communication',\n",
       " u'compliments',\n",
       " u'concealment',\n",
       " u'consciousness',\n",
       " u'consequence',\n",
       " u'considerable',\n",
       " u'consideration',\n",
       " u'considering',\n",
       " u'consolation',\n",
       " u'conversation',\n",
       " u'countenance',\n",
       " u'delightfully',\n",
       " u'differently',\n",
       " u'difficulties',\n",
       " u'disagreeable',\n",
       " u'disappointed',\n",
       " u'disappointment',\n",
       " u'disposition',\n",
       " u'distinction',\n",
       " u'encouragement',\n",
       " u'encouraging',\n",
       " u'engagements',\n",
       " u'exceedingly',\n",
       " u'excessively',\n",
       " u'expectation',\n",
       " u'explanation',\n",
       " u'expressions',\n",
       " u'extraordinary',\n",
       " u'forbearance',\n",
       " u'grandmother',\n",
       " u'housekeeper',\n",
       " u'imagination',\n",
       " u'immediately',\n",
       " u'improvement',\n",
       " u'inclination',\n",
       " u'inconvenience',\n",
       " u'independence',\n",
       " u'independent',\n",
       " u'indifference',\n",
       " u'indifferent',\n",
       " u'information',\n",
       " u'intelligence',\n",
       " u'intelligible',\n",
       " u'intercourse',\n",
       " u'interesting',\n",
       " u'interrupted',\n",
       " u'introduction',\n",
       " u'mortification',\n",
       " u'neighbourhood',\n",
       " u'observation',\n",
       " u'opportunity',\n",
       " u'particularly',\n",
       " u'particulars',\n",
       " u'performance',\n",
       " u'possibility',\n",
       " u'probability',\n",
       " u'recollection',\n",
       " u'recommended',\n",
       " u'remembrance',\n",
       " u'respectable',\n",
       " u'satisfaction',\n",
       " u'strawberries',\n",
       " u'sufficiently',\n",
       " u'superiority',\n",
       " u'troublesome',\n",
       " u'understanding',\n",
       " u'undoubtedly',\n",
       " u'unnecessary',\n",
       " u'unreasonable']"
      ]
     },
     "execution_count": 9,
     "output_type": "execute_result",
     "metadata": {}
    }
   ],
   "source": [
    "sorted([w for w in emma_fd.keys()\n",
    "            if len(w)>10 and emma_fd[w]> 7])"
   ]
  }
 ],
 "metadata": {
  "celltoolbar": "Slideshow",
  "kernelspec": {
   "display_name": "Python 2",
   "language": "python",
   "name": "python2"
  },
  "language_info": {
   "codemirror_mode": {
    "name": "ipython",
    "version": 2.0
   },
   "file_extension": ".py",
   "mimetype": "text/x-python",
   "name": "python",
   "nbconvert_exporter": "python",
   "pygments_lexer": "ipython2",
   "version": "2.7.10"
  },
  "livereveal": {
   "center": false,
   "embedded": true,
   "start_slideshow_at": "selected",
   "theme": "simple",
   "transition": "fade"
  }
 },
 "nbformat": 4,
 "nbformat_minor": 0
}