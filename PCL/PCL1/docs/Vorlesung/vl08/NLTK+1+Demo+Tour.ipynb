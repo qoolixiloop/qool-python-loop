{
 "cells": [
  {
   "cell_type": "markdown",
   "metadata": {},
   "source": [
    "# NLTK 1: Interaktiver Umgang mit Beispielcorpora"
   ]
  },
  {
   "cell_type": "markdown",
   "metadata": {},
   "source": [
    "## Laden von NLTK interaktiver Demo"
   ]
  },
  {
   "cell_type": "code",
   "execution_count": 1,
   "metadata": {},
   "outputs": [],
   "source": [
    "from nltk.book import *\n",
    "texts()"
   ]
  },
  {
   "cell_type": "markdown",
   "metadata": {},
   "source": [
    "## Texte sind Sequenzen von Tokens"
   ]
  },
  {
   "cell_type": "code",
   "execution_count": 2,
   "metadata": {},
   "outputs": [
    {
     "data": {
      "text/plain": [
       "[u'[',\n",
       " u'Moby',\n",
       " u'Dick',\n",
       " u'by',\n",
       " u'Herman',\n",
       " u'Melville',\n",
       " u'1851',\n",
       " u']',\n",
       " u'ETYMOLOGY',\n",
       " u'.']"
      ]
     },
     "execution_count": 2,
     "output_type": "execute_result",
     "metadata": {}
    }
   ],
   "source": [
    "text1[0:10]"
   ]
  },
  {
   "cell_type": "code",
   "execution_count": 3,
   "metadata": {},
   "outputs": [
    {
     "data": {
      "text/plain": [
       "[u'[',\n",
       " u'Sense',\n",
       " u'and',\n",
       " u'Sensibility',\n",
       " u'by',\n",
       " u'Jane',\n",
       " u'Austen',\n",
       " u'1811',\n",
       " u']',\n",
       " u'CHAPTER']"
      ]
     },
     "execution_count": 3,
     "output_type": "execute_result",
     "metadata": {}
    }
   ],
   "source": [
    "text2[0:10]"
   ]
  },
  {
   "cell_type": "markdown",
   "metadata": {},
   "source": [
    "## Konkordanzen erstellen\n",
    "KWIC (Keyword in Context)"
   ]
  },
  {
   "cell_type": "code",
   "execution_count": 4,
   "metadata": {},
   "outputs": [
    {
     "name": "stdout",
     "output_type": "stream",
     "text": [
      "Displaying 25 of 527 matches:\n",
      " Civitas ) which is but an artificial man .\" -- OPENING SENTENCE OF HOBBES ' S \n",
      "y of that sort that was killed by any man , such is his fierceness and swiftnes\n",
      "in his deepest reveries -- stand that man on his legs , set his feet a - going \n",
      "it ? The urbane activity with which a man receives money is really marvellous ,\n",
      ", and that on no account can a monied man enter heaven . Ah ! how cheerfully we\n",
      "ure truly , enough to drive a nervous man distracted . Yet was there a sort of \n",
      "ss needle sojourning in the body of a man , travelled full forty feet , and at \n",
      " him ), bustles a little withered old man , who , for their money , dearly sell\n",
      "ld put up with the half of any decent man ' s blanket . \" I thought so . All ri\n",
      "king as much noise as the rest . This man interested me at once ; and since the\n",
      " . I have seldom seen such brawn in a man . His face was deeply brown and burnt\n",
      "ions had mounted to its height , this man slipped away unobserved , and I saw n\n",
      "us to the entrance of the seamen . No man prefers to sleep two in a bed . In fa\n",
      " an uncomfortable feeling towards the man whom you design for my bedfellow -- a\n",
      "lord , that harpooneer is a dangerous man .\" \" He pays reg ' lar ,\" was the rej\n",
      "nd a papered fireboard representing a man striking a whale . Of things not prop\n",
      " me . I remembered a story of a white man -- a whaleman too -- who , falling am\n",
      "ter all ! It ' s only his outside ; a man can be honest in any sort of skin . B\n",
      "eard of a hot sun ' s tanning a white man into a purplish yellow one . However \n",
      " you sabbee me , I sabbee -- you this man sleepe you -- you sabbee ?\" \" Me sabb\n",
      "ng about , thought I to myself -- the man ' s a human being just as I am : he h\n",
      "th him . But I don ' t fancy having a man smoking in bed with me . It ' s dange\n",
      "ter of my breeding . Nevertheless , a man like Queequeg you don ' t see every d\n",
      "opriety that I ever heard of , is any man required to be private when putting o\n",
      "e more ' s the pity . So , if any one man , in his own proper person , afford s\n",
      "\n",
      "Displaying 25 of 121 matches:\n",
      "ate owner of this estate was a single man , who lived to a very advanced age , \n",
      " The son , a steady respectable young man , was amply provided for by the fortu\n",
      " . He was not an ill - disposed young man , unless to be rather cold hearted an\n",
      " to exist between the children of any man by different marriages ; and why was \n",
      "a gentleman - like and pleasing young man , who was introduced to their acquain\n",
      "dward Ferrars was the eldest son of a man who had died very rich ; and some mig\n",
      "her established ideas of what a young man ' s address ought to be , was no long\n",
      "ut yet -- he is not the kind of young man -- there is something wanting -- his \n",
      "at grace which I should expect in the man who could seriously attach my sister \n",
      " united . I could not be happy with a man whose taste did not in every point co\n",
      " I convinced that I shall never see a man whom I can really love . I require so\n",
      "r servants to three ; two maids and a man , with whom they were speedily provid\n",
      " their establishment at Norland . The man and one of the maids were sent off im\n",
      "tual demands upon his purse , which a man of any consequence in the world was b\n",
      "Sir John Middleton was a good looking man about forty . He had formerly visited\n",
      "was reasonable enough to allow that a man of five and thirty might well have ou\n",
      "ations of her power over such a young man ; and this kind of discernment enable\n",
      "rs . Dashwood , who could not think a man five years younger than herself , so \n",
      "nd . It is too ridiculous ! When is a man to be safe from such wit , if age and\n",
      " of seven and twenty could feel for a man of thirty - five anything near enough\n",
      "ry year .\" \" And what sort of a young man is he ?\" \" As good a kind of fellow a\n",
      " say , that he is a respectable young man , and one whose acquaintance will not\n",
      "is what I like ; that is what a young man ought to be . Whatever be his pursuit\n",
      "nded ; and ' setting one ' s cap at a man ,' or ' making a conquest ,' are the \n",
      " rapturous a delight , that any young man of five and twenty must have been ins\n"
     ]
    }
   ],
   "source": [
    "text1.concordance(\"man\")\n",
    "print\n",
    "text2.concordance(\"man\")"
   ]
  },
  {
   "cell_type": "code",
   "execution_count": 5,
   "metadata": {},
   "outputs": [
    {
     "name": "stdout",
     "output_type": "stream",
     "text": [
      "Displaying 10 of 10 matches:\n",
      "nclude that , like the dyspeptic old woman , he must have \" broken his digester\n",
      "flections by the sight of a freckled woman with yellow hair and a yellow gown ,\n",
      "e ' s rheumatic back . Never did any woman better deserve her name , which was \n",
      "ir limbs . Nor can any son of mortal woman , for the first time , seat himself \n",
      "\" Mr . Har -- yes , Mr . Harry --( a woman ' s pinny hand ,-- the man ' s wife \n",
      "in this same last or shoe , that old woman of the nursery tale , with the swarm\n",
      "eginning at the end . It ' s the old woman ' s tricks to be giving cobbling job\n",
      "men have for tinkers . I know an old woman of sixty - five who ran away with a \n",
      "transparently pure and soft , with a woman ' s look , and the robust and man - \n",
      "Starbuck die , if die he must , in a woman ' s fainting fit . Up helm , I say -\n",
      "\n",
      "Displaying 25 of 68 matches:\n",
      "ties . Had he married a more amiable woman , he might have been made still more\n",
      "t was so much the greater , and to a woman in Mrs . Dashwood ' s situation , wi\n",
      "ry comfortable fortune for any young woman .\" \" To be sure it is ; and , indeed\n",
      " way , if he were to wish to marry a woman who had not either a great fortune o\n",
      "nd of the danger attending any young woman who attempted to DRAW HIM IN ; that \n",
      " to inhabit or visit it while such a woman was its mistress . She instantly wro\n",
      "income of five hundred a - year by a woman who never saved in her life , they w\n",
      "as she was a very cheerful agreeable woman , he hoped the young ladies would no\n",
      "d - humoured , merry , fat , elderly woman , who talked a great deal , seemed v\n",
      " should by any chance happen to be a woman who is single at seven and twenty , \n",
      "objection to his marrying HER .\" \" A woman of seven and twenty ,\" said Marianne\n",
      "y of a wife . In his marrying such a woman therefore there would be nothing uns\n",
      "ed Elinor , \" to convince you that a woman of seven and twenty could feel for a\n",
      "ndignity of being approved by such a woman as Lady Middleton and Mrs . Jennings\n",
      "ch was exactly calculated to carry a woman . Without considering that it was no\n",
      "been , she had actually made her own woman enquire of Mr . Willoughby ' s groom\n",
      "ould be attempted . \" You are a good woman ,\" he warmly replied . \" Your promis\n",
      ", he was the husband of a very silly woman ,-- but she knew that this kind of b\n",
      " all the philosophy of a well - bred woman , contenting herself with merely giv\n",
      "rmed at in reality .\" \" What a sweet woman Lady Middleton is !\" said Lucy Steel\n",
      " , you cannot tell me what sort of a woman she is ?\" \" No ,\" returned Elinor , \n",
      "sible he is very capable of making a woman sincerely attached to him .\" \" Certa\n",
      "nd I fancy she is an exceeding proud woman .\" \" I certainly did not seek your c\n",
      ". Ferrars is a very headstrong proud woman , and in her first fit of anger upon\n",
      "self - interest alone could induce a woman to keep a man to an engagement , of \n"
     ]
    }
   ],
   "source": [
    "text1.concordance(\"woman\")\n",
    "print\n",
    "text2.concordance(\"woman\")"
   ]
  },
  {
   "cell_type": "markdown",
   "metadata": {},
   "source": [
    "## Ähnlichkeit\n",
    "Similarity (andere Wörter, welche in ähnlichen Kontexten auftauchen)"
   ]
  },
  {
   "cell_type": "code",
   "execution_count": 6,
   "metadata": {},
   "outputs": [
    {
     "name": "stdout",
     "output_type": "stream",
     "text": [
      "man king shark serpent camel job father hare bull fleece fellow\n",
      "surveyor as cobbler monks laugh kings ship times fiddler\n",
      "\n",
      "man men word year friend letter moment way part gentleman situation\n",
      "person living creature style day little thing kind state\n"
     ]
    }
   ],
   "source": [
    "text1.similar(\"woman\")\n",
    "print\n",
    "text2.similar(\"woman\")"
   ]
  },
  {
   "cell_type": "code",
   "execution_count": 7,
   "metadata": {},
   "outputs": [
    {
     "name": "stdout",
     "output_type": "stream",
     "text": [
      "man sea it ship captain me boats them bone matter sharks nature life\n",
      "air hand way head water blubber place\n",
      "\n",
      "affection town heart see mother sister time me word elinor life it\n",
      "marianne dear family him bed do regard her\n"
     ]
    }
   ],
   "source": [
    "text1.similar(\"love\")\n",
    "print\n",
    "text2.similar(\"love\")"
   ]
  },
  {
   "cell_type": "markdown",
   "metadata": {},
   "source": [
    "## Häufigkeit in einem Korpus"
   ]
  },
  {
   "cell_type": "code",
   "execution_count": 8,
   "metadata": {},
   "outputs": [
    {
     "data": {
      "text/plain": [
       "24"
      ]
     },
     "execution_count": 8,
     "output_type": "execute_result",
     "metadata": {}
    }
   ],
   "source": [
    "text1.count('love')"
   ]
  },
  {
   "cell_type": "code",
   "execution_count": 9,
   "metadata": {},
   "outputs": [
    {
     "data": {
      "text/plain": [
       "77"
      ]
     },
     "execution_count": 9,
     "output_type": "execute_result",
     "metadata": {}
    }
   ],
   "source": [
    "text2.count('love')"
   ]
  },
  {
   "cell_type": "markdown",
   "metadata": {},
   "source": [
    "<h3>Häufigkeitsdistributionen</h3>\n",
    "Alle Häufigkeiten aller verschiedenen Tokens berechnen"
   ]
  },
  {
   "cell_type": "code",
   "execution_count": 10,
   "metadata": {},
   "outputs": [
    {
     "name": "stdout",
     "output_type": "stream",
     "text": [
      ", \t\t9397\n",
      "to \t\t4063\n",
      ". \t\t3975\n",
      "the \t\t3861\n",
      "of \t\t3565\n",
      "and \t\t3350\n",
      "her \t\t2436\n",
      "a \t\t2043\n",
      "I \t\t2004\n",
      "in \t\t1904\n",
      "was \t\t1846\n",
      "it \t\t1568\n",
      "\" \t\t1506\n",
      "; \t\t1419\n",
      "she \t\t1333\n",
      "be \t\t1305\n",
      "that \t\t1297\n",
      "for \t\t1234\n",
      "not \t\t1212\n",
      "as \t\t1179\n"
     ]
    }
   ],
   "source": [
    "fdist2 = FreqDist(text2)\n",
    "vocabulary2= sorted(fdist2, key=fdist2.get,reverse=True)\n",
    "for w in vocabulary2[:20]:\n",
    "    print w, \"\\t\\t\", fdist2[w]"
   ]
  },
  {
   "cell_type": "markdown",
   "metadata": {},
   "source": [
    "\n",
    "<h3>Erstellen eines Plots</h3>"
   ]
  },
  {
   "cell_type": "code",
   "execution_count": 15,
   "metadata": {},
   "outputs": [],
   "source": [
    "fdist2.plot(20,cumulative=False)"
   ]
  },
  {
   "cell_type": "markdown",
   "metadata": {},
   "source": [
    "## Statistische Kollokationen\n",
    "Welche Wörter kommen unerwartet häufig nebeneinander vor?"
   ]
  },
  {
   "cell_type": "code",
   "execution_count": 12,
   "metadata": {},
   "outputs": [
    {
     "name": "stdout",
     "output_type": "stream",
     "text": [
      "Sperm Whale; Moby Dick; White Whale; old man; Captain Ahab; sperm\n",
      "whale; Right Whale; Captain Peleg; New Bedford; Cape Horn; cried Ahab;\n",
      "years ago; lower jaw; never mind; Father Mapple; cried Stubb; chief\n",
      "mate; white whale; ivory leg; one hand\n",
      "\n",
      "Colonel Brandon; Sir John; Lady Middleton; Miss Dashwood; every thing;\n",
      "thousand pounds; dare say; Miss Steeles; said Elinor; Miss Steele;\n",
      "every body; John Dashwood; great deal; Harley Street; Berkeley Street;\n",
      "Miss Dashwoods; young man; Combe Magna; every day; next morning\n"
     ]
    }
   ],
   "source": [
    "text1.collocations()\n",
    "print\n",
    "text2.collocations()"
   ]
  },
  {
   "cell_type": "markdown",
   "metadata": {},
   "source": [
    "## Dispersions Plots\n",
    "Wo tauchen auf einer Zeitachse Wörter wie oft auf? Amerikanische Ansprachen"
   ]
  },
  {
   "cell_type": "code",
   "execution_count": 16,
   "metadata": {},
   "outputs": [],
   "source": [
    "text4.dispersion_plot([\"freedom\",\"war\"])\n",
    "#text4.dispersion_plot([\"economy\",\"war\"])"
   ]
  },
  {
   "cell_type": "markdown",
   "metadata": {},
   "source": [
    "## Textgenerierung\n",
    "Statistische Generierung von Texten aus Trigramm-Statistiken von Wörtern. Typischer Wortverbindungen aus einem Korpus.\n",
    "(In NLTK 3 momentan kaputt.)\n",
    "Politische Rede? Sich inspirieren lassen von präsidialen Ansprachen der vergangenen Präsidenten der USA."
   ]
  },
  {
   "cell_type": "code",
   "execution_count": 14,
   "metadata": {},
   "outputs": [
    {
     "ename": "SyntaxError",
     "evalue": "invalid syntax (<ipython-input-14-576e58f5789c>, line 2)",
     "output_type": "error",
     "traceback": [
      "\u001b[0;36m  File \u001b[0;32m\"<ipython-input-14-576e58f5789c>\"\u001b[0;36m, line \u001b[0;32m2\u001b[0m\n\u001b[0;31m    Fellow - Countrymen : At this second gathering , our commerce and\u001b[0m\n\u001b[0m                        ^\u001b[0m\n\u001b[0;31mSyntaxError\u001b[0m\u001b[0;31m:\u001b[0m invalid syntax\n"
     ]
    }
   ],
   "source": [
    ">>> text4.generate()\n",
    "Fellow - Countrymen : At this second gathering , our commerce and\n",
    "share them . Instead of undertaking particular recommendations on this\n",
    "occasion , feeling the emotions which the Executive , in seeking\n",
    "practical plans for mediation , conciliation , and evil is real , and\n",
    "defense ; if a preference , upon a party , and we have piled deficit\n",
    "upon deficit , mortgaging our future is this which gives inestimable\n",
    "value to those who came here believed they could to merit it can\n",
    "deliver ; from inflated rhetoric that postures instead of others , and\n",
    "by our own"
   ]
  },
  {
   "cell_type": "markdown",
   "metadata": {},
   "source": [
    "<h2>Listenkomprehension</h2>"
   ]
  },
  {
   "cell_type": "code",
   "execution_count": null,
   "metadata": {},
   "outputs": [],
   "source": [
    "V = set(text1)\n",
    "long_words = [w for w in V if len(w)>15]\n",
    "long_words"
   ]
  },
  {
   "cell_type": "code",
   "execution_count": null,
   "metadata": {},
   "outputs": [],
   "source": [
    ""
   ]
  }
 ],
 "metadata": {
  "celltoolbar": "Slideshow",
  "kernelspec": {
   "display_name": "Python 2",
   "language": "python",
   "name": "python2"
  },
  "language_info": {
   "codemirror_mode": {
    "name": "ipython",
    "version": 2.0
   },
   "file_extension": ".py",
   "mimetype": "text/x-python",
   "name": "python",
   "nbconvert_exporter": "python",
   "pygments_lexer": "ipython2",
   "version": "2.7.10"
  },
  "livereveal": {
   "center": false,
   "embedded": false,
   "start_slideshow_at": "selected",
   "theme": "simple",
   "transition": "fade"
  }
 },
 "nbformat": 4,
 "nbformat_minor": 0
}